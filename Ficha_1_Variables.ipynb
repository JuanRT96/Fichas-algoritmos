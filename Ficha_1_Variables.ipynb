{
  "nbformat": 4,
  "nbformat_minor": 0,
  "metadata": {
    "colab": {
      "provenance": [],
      "authorship_tag": "ABX9TyOjAbGUjpM6jBRSXjoQugYq",
      "include_colab_link": true
    },
    "kernelspec": {
      "name": "python3",
      "display_name": "Python 3"
    },
    "language_info": {
      "name": "python"
    }
  },
  "cells": [
    {
      "cell_type": "markdown",
      "metadata": {
        "id": "view-in-github",
        "colab_type": "text"
      },
      "source": [
        "<a href=\"https://colab.research.google.com/github/JuanRT96/Fichas-algoritmos/blob/main/Ficha_1_Variables.ipynb\" target=\"_parent\"><img src=\"https://colab.research.google.com/assets/colab-badge.svg\" alt=\"Open In Colab\"/></a>"
      ]
    },
    {
      "cell_type": "markdown",
      "source": [
        "#### ¿Que es una variable? ####\n",
        "\n",
        "Una variable es un nombre que se utiliza para referirse a un valor almacenado en la memoria. Las variables permiten almacenar, modificar y acceder a datos de manera eficiente durante la ejecución de un programa.\n",
        "\n"
      ],
      "metadata": {
        "id": "w9XplmXMnZ-b"
      }
    },
    {
      "cell_type": "markdown",
      "source": [
        "### Ejemplo: ###\n",
        "\n",
        "```python\n",
        "nombre = \"Juan David\"  # Asigna la cadena de texto \"Juan David\" a la variable llamada 'nombre'.\n",
        "edad = 29             # Asigna el número entero 29 a la variable llamada 'edad'.\n",
        "estatura = 1.73         # Asigna el número de punto flotante 1.73 a la variable llamada 'estatura'.\n",
        "peso = 78             # Asigna el número entero 78 a la variable llamada 'peso'.\n",
        "es_estudiante_ADSO = True # Asigna el valor booleano True a la variable llamada 'es_estudiante_ADSO'.\n",
        "\n",
        "print(\"¡Hola,\" , nombre + \"! Bienvenido a Python, sus datos son los siguientes: \") # Imprime en la consola la cadena de texto \"¡Hola,\" concatenada con el valor de la variable 'nombre', luego la cadena \"! Bienvenido a Python, sus datos son los siguientes: \".\n",
        "print(\"Nombre:\", nombre) # Imprime en la consola la cadena de texto \"Nombre:\" seguida del valor de la variable 'nombre'.\n",
        "print(\"Edad:\", edad)     # Imprime en la consola la cadena de texto \"Edad:\" seguida del valor de la variable 'edad'.\n",
        "print(\"Estatura:\", estatura) # Imprime en la consola la cadena de texto \"Estatura:\" seguida del valor de la variable 'estatura'.\n",
        "print(\"Peso:\", peso)     # Imprime en la consola la cadena de texto \"Peso:\" seguida del valor de la variable 'peso'.\n",
        "print(\"Es estudiante de ADSO:\", es_estudiante_ADSO) # Imprime en la consola la cadena de texto \"Es estudiante de ADSO:\" seguida del valor de la variable 'es_estudiante_ADSO'.\n",
        "```"
      ],
      "metadata": {
        "id": "EjJ9RBRgBbFy"
      }
    },
    {
      "cell_type": "markdown",
      "source": [
        " Las variables en Python no requieren una declaración explícita de tipo, ya que Python es un lenguaje de tipado dinámico. Esto significa que el tipo de la variable se determina automáticamente en tiempo de ejecución.\n",
        "\n",
        "\n",
        "\n",
        "#### ¿Por qué se usan las variables en Python? ####\n",
        "\n",
        "*  Facilitan la reutilización del código → En lugar de escribir un valor muchas veces, se almacena en una variable y se usa cuando sea necesario.\n",
        "*  Hacen que el código sea más legible → Un nombre descriptivo de variable puede indicar su propósito sin necesidad de comentarios extensos.\n",
        "\n",
        "*   Permiten manipular datos de forma eficiente → Puedes realizar cálculos, modificar valores y usarlos en funciones sin necesidad de reescribirlos.\n",
        "\n",
        "*   Ayudan a estructurar y organizar programas → Se pueden usar para guardar configuraciones, resultados intermedios y estados del programa.\n",
        "\n",
        "\n",
        "#### ¿Para qué se usan las variables en Python? ####\n",
        "Las variables se usan para almacenar distintos tipos de datos, como:***\n",
        "\n",
        "\n",
        "\n",
        "*  Números (enteros y decimales)\n",
        "*  Cadenas de texto\n",
        "*  Listas y diccionarios\n",
        "*  Booleanos (True o False)\n",
        "*  Objetos más complejos (como clases y funciones)\n",
        "\n",
        "\n",
        "---\n",
        "\n",
        "### Audio ###\n",
        "\n",
        "https://drive.google.com/file/d/1rKQUasT77ZmCaZgiUGnUME_1Lt88XHuW/view?usp=drive_link\n",
        "\n",
        "---"
      ],
      "metadata": {
        "id": "QRLkXhDPFKwE"
      }
    },
    {
      "cell_type": "code",
      "source": [
        "nombre = \"Juan David\"\n",
        "edad = 29\n",
        "estatura = 1.73\n",
        "peso = 78\n",
        "es_estudiante_ADSO = True\n",
        "\n",
        "print(\"¡Hola,\" , nombre + \"! Bienvenido a Python, sus datos son los siguientes: \")\n",
        "print(\"Nombre:\", nombre)\n",
        "print(\"Edad:\", edad)\n",
        "print(\"Estatura:\", estatura)\n",
        "print(\"Peso:\", peso)\n",
        "print(\"Es estudiante de ADSO:\", es_estudiante_ADSO)\n",
        "\n"
      ],
      "metadata": {
        "colab": {
          "base_uri": "https://localhost:8080/"
        },
        "id": "rr8b1Lg3ySq5",
        "outputId": "17f1526b-34eb-4b05-b1d2-5914d8e589ea"
      },
      "execution_count": null,
      "outputs": [
        {
          "output_type": "stream",
          "name": "stdout",
          "text": [
            "¡Hola, Juan David! Bienvenido a Python, sus datos son los siguientes: \n",
            "Nombre: Juan David\n",
            "Edad: 29\n",
            "Estatura: 1.73\n",
            "Peso: 78\n",
            "Es estudiante de ADSO: True\n"
          ]
        }
      ]
    }
  ]
}