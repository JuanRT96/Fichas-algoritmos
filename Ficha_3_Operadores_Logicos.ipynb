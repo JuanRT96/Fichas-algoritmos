{
  "nbformat": 4,
  "nbformat_minor": 0,
  "metadata": {
    "colab": {
      "provenance": [],
      "authorship_tag": "ABX9TyOGuqaAmNe5mhnKHg/Il7xH",
      "include_colab_link": true
    },
    "kernelspec": {
      "name": "python3",
      "display_name": "Python 3"
    },
    "language_info": {
      "name": "python"
    }
  },
  "cells": [
    {
      "cell_type": "markdown",
      "metadata": {
        "id": "view-in-github",
        "colab_type": "text"
      },
      "source": [
        "<a href=\"https://colab.research.google.com/github/JuanRT96/Fichas-algoritmos/blob/main/Ficha_3_Operadores_Logicos.ipynb\" target=\"_parent\"><img src=\"https://colab.research.google.com/assets/colab-badge.svg\" alt=\"Open In Colab\"/></a>"
      ]
    },
    {
      "cell_type": "markdown",
      "source": [
        "### ¿Que son los operadores logicos? ###\n",
        "\n",
        "Los operadores lógicos en Python se usan para realizar operaciones booleanas (verdadero o falso) y combinar condiciones. Los principales operadores lógicos son:\n",
        "\n",
        "| Operador | Descripcion |Ejemplo | Resultado |  \n",
        "| --- | --- | --- | --- |  \n",
        "| And | Devuelve True si ambas condiciones son True| True and False | False |  \n",
        "| Or | Devuelve True si al menos una condición es True | True or False | True |  \n",
        "| Not | Invierte el valor de True a False y viceversa | Not True | False |  \n",
        "\n",
        "\n",
        "### Ejemplo: ###\n",
        "\n",
        "```python\n",
        "a = True      # Asigna el valor booleano True a la variable llamada 'a'.\n",
        "b = False     # Asigna el valor booleano False a la variable llamada 'b'.\n",
        "\n",
        "print(a and b)  # Imprime en la consola el resultado de la operación lógica AND entre 'a' y 'b' (False).\n",
        "print(a or b)   # Imprime en la consola el resultado de la operación lógica OR entre 'a' y 'b' (True).\n",
        "print(not a)    # Imprime en la consola el resultado de la operación lógica NOT sobre 'a' (False).\n",
        "```\n",
        "\n",
        "En programación, estos operadores se usan mucho en estructuras condicionales y en evaluaciones de seguridad.\n",
        "\n",
        "\n",
        "\n",
        "---\n",
        "\n",
        "### Audio ###\n",
        "\n",
        "https://drive.google.com/file/d/1PzXqs2M-O_sJxz_zoxxVCpSDjtn6YBjC/view?usp=drive_link\n",
        "\n",
        "\n",
        "---\n"
      ],
      "metadata": {
        "id": "ZUvqq1iCoF08"
      }
    },
    {
      "cell_type": "code",
      "source": [
        "a = True\n",
        "b = False\n",
        "\n",
        "print(a and b)\n",
        "print(a or b)\n",
        "print(not a)"
      ],
      "metadata": {
        "colab": {
          "base_uri": "https://localhost:8080/"
        },
        "id": "3UiMxYfMrMbq",
        "outputId": "e480b71b-2f20-4a3c-f05f-cca83a92a2d4"
      },
      "execution_count": null,
      "outputs": [
        {
          "output_type": "stream",
          "name": "stdout",
          "text": [
            "False\n",
            "True\n",
            "False\n"
          ]
        }
      ]
    }
  ]
}