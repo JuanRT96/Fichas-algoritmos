{
  "nbformat": 4,
  "nbformat_minor": 0,
  "metadata": {
    "colab": {
      "provenance": [],
      "authorship_tag": "ABX9TyNfjqMhk99fjFIeGkpMrV5e",
      "include_colab_link": true
    },
    "kernelspec": {
      "name": "python3",
      "display_name": "Python 3"
    },
    "language_info": {
      "name": "python"
    }
  },
  "cells": [
    {
      "cell_type": "markdown",
      "metadata": {
        "id": "view-in-github",
        "colab_type": "text"
      },
      "source": [
        "<a href=\"https://colab.research.google.com/github/JuanRT96/Fichas-algoritmos/blob/main/Ficha_6_Ciclo_For.ipynb\" target=\"_parent\"><img src=\"https://colab.research.google.com/assets/colab-badge.svg\" alt=\"Open In Colab\"/></a>"
      ]
    },
    {
      "cell_type": "markdown",
      "source": [
        "### ¿Que es el ciclo for? ###\n",
        "\n",
        "El ciclo for en Python es una estructura de control de flujo que se utiliza para iterar sobre secuencias, como listas, tuplas, diccionarios, conjuntos o rangos de números. Sirve para ejecutar un bloque de código varias veces sin necesidad de escribirlo repetidamente.\n",
        "\n",
        "\n",
        "### Ejemplos: ###\n",
        "\n",
        "```python\n",
        "amigos = [\"Ana\", \"Juan\", \"Luis\"] # Crea una lista llamada 'amigos' que contiene tres cadenas de texto: \"Ana\", \"Juan\" y \"Luis\".\n",
        "for amigo in amigos: # Inicia un bucle 'for' que itera sobre cada elemento de la lista 'amigos'. En cada iteración, el elemento actual se asigna a la variable 'amigo'.\n",
        "    print(\"Hola\", amigo) # Dentro del bucle, imprime en la consola la cadena de texto \"Hola\" seguida de un espacio y el valor actual de la variable 'amigo'.\n",
        "```\n",
        "\n",
        "```python\n",
        "edades = {\"Ana\": 25, \"Juan\": 30, \"Luis\": 22} # Crea un diccionario llamado 'edades' donde las claves son nombres (cadenas) y los valores son las edades (enteros).\n",
        "for nombre, edad in edades.items(): # Inicia un bucle 'for' que itera sobre los pares clave-valor del diccionario 'edades'. El método '.items()' devuelve una vista de los elementos del diccionario como pares (clave, valor), que se desempaquetan en las variables 'nombre' y 'edad' en cada iteración.\n",
        "    print(f\"{nombre} tiene {edad} años\") # Dentro del bucle, imprime en la consola una cadena formateada utilizando un f-string. Muestra el 'nombre' y su correspondiente 'edad' con el texto \" tiene  años\".\n",
        "```\n",
        "\n",
        "### ¿Para qué sirve? ###\n",
        "\n",
        "\n",
        "*   Automatizar tareas repetitivas sin escribir el mismo código varias veces.\n",
        "*   Recorrer secuencias de datos (listas, diccionarios, archivos, etc.).\n",
        "*   Procesar información de manera eficiente (como filtrar datos o realizar cálculos en una lista).\n",
        "*   Realizar búsquedas en conjuntos de datos.\n",
        "*  Ejecutar acciones en bloque sobre múltiples elementos.\n",
        "\n",
        "---\n",
        "### Audio ###\n",
        "\n",
        "https://drive.google.com/file/d/1u3He27IBPL64_QxRc8_e_ltqXLnv1-Ki/view?usp=drive_link\n",
        "\n",
        "---\n"
      ],
      "metadata": {
        "id": "dBeyoGDVs71S"
      }
    },
    {
      "cell_type": "code",
      "source": [
        "amigos = [\"Ana\", \"Juan\", \"Luis\"]\n",
        "for amigo in amigos:\n",
        "  print(\"Hola\", amigo)"
      ],
      "metadata": {
        "colab": {
          "base_uri": "https://localhost:8080/"
        },
        "id": "wzox2TvRv13l",
        "outputId": "644eeae8-d23d-4c94-c708-2c839e289339"
      },
      "execution_count": null,
      "outputs": [
        {
          "output_type": "stream",
          "name": "stdout",
          "text": [
            "Hola Ana\n",
            "Hola Juan\n",
            "Hola Luis\n"
          ]
        }
      ]
    },
    {
      "cell_type": "code",
      "source": [
        "edades = {\"Ana\": 25, \"Juan\": 30, \"Luis\": 22}\n",
        "for nombre, edad in edades.items():\n",
        "    print(f\"{nombre} tiene {edad} años\")"
      ],
      "metadata": {
        "colab": {
          "base_uri": "https://localhost:8080/"
        },
        "id": "gBrI6J_mwFUF",
        "outputId": "14daacca-a153-4024-edcb-4d808138ba7d"
      },
      "execution_count": null,
      "outputs": [
        {
          "output_type": "stream",
          "name": "stdout",
          "text": [
            "Ana tiene 25 años\n",
            "Juan tiene 30 años\n",
            "Luis tiene 22 años\n"
          ]
        }
      ]
    }
  ]
}