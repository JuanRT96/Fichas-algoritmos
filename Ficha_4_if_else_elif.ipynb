{
  "nbformat": 4,
  "nbformat_minor": 0,
  "metadata": {
    "colab": {
      "provenance": [],
      "authorship_tag": "ABX9TyPhjCVdyLSKGIgkPE7RAT+Z",
      "include_colab_link": true
    },
    "kernelspec": {
      "name": "python3",
      "display_name": "Python 3"
    },
    "language_info": {
      "name": "python"
    }
  },
  "cells": [
    {
      "cell_type": "markdown",
      "metadata": {
        "id": "view-in-github",
        "colab_type": "text"
      },
      "source": [
        "<a href=\"https://colab.research.google.com/github/JuanRT96/Fichas-algoritmos/blob/main/Ficha_4_if_else_elif.ipynb\" target=\"_parent\"><img src=\"https://colab.research.google.com/assets/colab-badge.svg\" alt=\"Open In Colab\"/></a>"
      ]
    },
    {
      "cell_type": "markdown",
      "source": [
        "### ¿Que es if/else y elif en Python? ###\n",
        "\n",
        "Las estructuras if, else y elif en Python se utilizan para la toma de decisiones dentro de un programa. Permiten ejecutar diferentes bloques de código dependiendo de si una condición es verdadera o falsa.\n",
        "\n",
        "### ¿Por qué se usan? ####\n",
        "\n",
        "\n",
        "* Para controlar el flujo del programa: Ejecutan diferentes bloques de código dependiendo de condiciones específicas. Elemento de lista\n",
        "*   Para mejorar la eficiencia: Evitan ejecutar código innecesario si ciertas condiciones no se cumplen.\n",
        "*   Para manejar múltiples escenarios: Permiten crear programas más dinámicos e interactivos.\n",
        "*   Para la seguridad en ciberseguridad: Detectan anomalías, bloquean accesos no autorizados y gestionan respuestas a eventos sospechosos.\n",
        "\n",
        "\n",
        "### ¿Para qué se usan? ###\n",
        "\n",
        "Se utilizan en múltiples casos, como:\n",
        "\n",
        "*   Autenticación de usuarios\n",
        "*   Monitoreo de intentos de acceso\n",
        "*   Filtrado de tráfico en ciberseguridad\n",
        "\n",
        "### Ejemplos ###\n",
        "\n",
        "***if***\n",
        "\n",
        "```python\n",
        "edad = 18 # Asigna el valor entero 18 a la variable llamada 'edad'.\n",
        "if edad >= 18: # Evalúa si el valor de la variable 'edad' es mayor o igual a 18.\n",
        "    print(\"Eres mayor de edad\") # Si la condición del 'if' es verdadera (en este caso, lo es), imprime en la consola la cadena de texto \"Eres mayor de edad\".\n",
        "```\n",
        "\n",
        "***if...else (alternativa)***\n",
        "\n",
        "```python\n",
        "edad = 16 # Asigna el valor entero 16 a la variable llamada 'edad'.\n",
        "if edad >= 18: # Evalúa si el valor de la variable 'edad' es mayor o igual a 18.\n",
        "    print(\"Eres mayor de edad\") # Si la condición del 'if' es verdadera (edad sería 18 o más), imprime en la consola \"Eres mayor de edad\".\n",
        "else: # Si la condición del 'if' es falsa (edad es menor que 18), se ejecuta el bloque de código dentro del 'else'.\n",
        "    print(\"Eres menor de edad\") # Imprime en la consola la cadena de texto \"Eres menor de edad\" (ya que la edad es 16).\n",
        "```\n",
        "\n",
        "***if...elif...else (múltiples condiciones)***\n",
        "\n",
        "```python\n",
        "temperatura = 30 # Asigna el valor entero 30 a la variable llamada 'temperatura'.\n",
        "\n",
        "if temperatura < 15: # Evalúa si el valor de la variable 'temperatura' es menor que 15.\n",
        "    print(\"Hace frío\") # Si la condición del 'if' es verdadera, imprime en la consola \"Hace frío\".\n",
        "elif 15 <= temperatura < 25: # Si la condición del 'if' anterior es falsa, evalúa si 'temperatura' es mayor o igual a 15 Y menor que 25.\n",
        "    print(\"El clima es templado\") # Si la condición del 'elif' es verdadera, imprime en la consola \"El clima es templado\".\n",
        "else: # Si ninguna de las condiciones anteriores ('if' o 'elif') es verdadera, se ejecuta el bloque de código dentro del 'else'.\n",
        "    print(\"Hace calor\") # Imprime en la consola \"Hace calor\" (ya que la temperatura es 30, que no cumple las condiciones anteriores).\n",
        "```\n",
        "\n",
        "*   if evalúa una condición.\n",
        "*   else se ejecuta si la condición es falsa.\n",
        "*   elif permite agregar más condiciones.\n",
        "\n",
        "\n",
        "\n",
        "\n",
        "\n",
        "---\n",
        "\n",
        "### Audio ###\n",
        "\n",
        "https://drive.google.com/file/d/18c8D6kUP10zXs5ip6CK-FWAVdgOYdsNl/view?usp=drive_link\n",
        "\n",
        "---\n",
        "\n",
        "\n",
        "\n",
        "\n",
        "\n",
        "\n",
        "\n",
        "\n",
        "\n",
        "\n",
        "\n",
        "\n",
        "\n"
      ],
      "metadata": {
        "id": "H7MBVW9kx7J6"
      }
    },
    {
      "cell_type": "code",
      "source": [
        "edad = 18\n",
        "if edad >= 18:\n",
        "    print(\"Eres mayor de edad\")"
      ],
      "metadata": {
        "colab": {
          "base_uri": "https://localhost:8080/"
        },
        "id": "6XaZMGnw1iBq",
        "outputId": "f98dbc44-eb55-4de4-e5c4-642656038059"
      },
      "execution_count": null,
      "outputs": [
        {
          "output_type": "stream",
          "name": "stdout",
          "text": [
            "Eres mayor de edad\n"
          ]
        }
      ]
    },
    {
      "cell_type": "code",
      "source": [
        "edad = 16\n",
        "if edad >= 18:\n",
        "    print(\"Eres mayor de edad\")\n",
        "else:\n",
        "    print(\"Eres menor de edad\")"
      ],
      "metadata": {
        "colab": {
          "base_uri": "https://localhost:8080/"
        },
        "id": "B9Dets6n2XeM",
        "outputId": "79b7e7c5-2b90-4b5c-e21f-12816c5b910d"
      },
      "execution_count": null,
      "outputs": [
        {
          "output_type": "stream",
          "name": "stdout",
          "text": [
            "Eres menor de edad\n"
          ]
        }
      ]
    },
    {
      "cell_type": "code",
      "source": [
        "temperatura = 30\n",
        "\n",
        "if temperatura < 15:\n",
        "    print(\"Hace frío\")\n",
        "elif 15 <= temperatura < 25:\n",
        "    print(\"El clima es templado\")\n",
        "else:\n",
        "    print(\"Hace calor\")"
      ],
      "metadata": {
        "colab": {
          "base_uri": "https://localhost:8080/"
        },
        "id": "z9ZgIhaG2fwc",
        "outputId": "6999723f-d2cb-479b-ad9e-7b6f32a47c6f"
      },
      "execution_count": null,
      "outputs": [
        {
          "output_type": "stream",
          "name": "stdout",
          "text": [
            "Hace calor\n"
          ]
        }
      ]
    }
  ]
}