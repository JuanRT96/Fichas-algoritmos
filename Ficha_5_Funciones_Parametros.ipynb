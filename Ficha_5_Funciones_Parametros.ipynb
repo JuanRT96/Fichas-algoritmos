{
  "nbformat": 4,
  "nbformat_minor": 0,
  "metadata": {
    "colab": {
      "provenance": [],
      "authorship_tag": "ABX9TyNFTEW0eFNITrwlG0U1Rbu+",
      "include_colab_link": true
    },
    "kernelspec": {
      "name": "python3",
      "display_name": "Python 3"
    },
    "language_info": {
      "name": "python"
    }
  },
  "cells": [
    {
      "cell_type": "markdown",
      "metadata": {
        "id": "view-in-github",
        "colab_type": "text"
      },
      "source": [
        "<a href=\"https://colab.research.google.com/github/JuanRT96/Fichas-algoritmos/blob/main/Ficha_5_Funciones_Parametros.ipynb\" target=\"_parent\"><img src=\"https://colab.research.google.com/assets/colab-badge.svg\" alt=\"Open In Colab\"/></a>"
      ]
    },
    {
      "cell_type": "markdown",
      "source": [
        "### ¿que son Funciones y parametros en Python? ###\n",
        "\n",
        "### Funciones en Python ###\n",
        "\n",
        "En Python, las funciones son bloques de código reutilizables que realizan una tarea específica. Estas permiten estructurar mejor el código, evitando la repetición y facilitando el mantenimiento.\n",
        "\n",
        "Se definen con la palabra clave def, seguidas de un nombre, paréntesis (donde se colocan los parámetros) y dos puntos. Luego, el cuerpo de la función contiene las instrucciones que se ejecutarán cuando se llame a la función.\n",
        "\n",
        "### Parámetros en una Función ###\n",
        "\n",
        "Los parámetros son variables que se pasan a una función para personalizar su comportamiento. Los valores que se envían a estos parámetros se llaman argumentos.\n",
        "\n",
        "---\n",
        "\n",
        "\n",
        "\n",
        "---"
      ],
      "metadata": {
        "id": "YNwE66-z3BHF"
      }
    },
    {
      "cell_type": "markdown",
      "source": [
        "### Tipos de Parámetros en Python ###\n",
        "\n",
        "Python permite diferentes tipos de parámetros en funciones:\n",
        "\n",
        "***Parámetros Posicionales (Se pasan en orden):***\n",
        "\n",
        "```python\n",
        "def suma(a, b): # Define una función llamada 'suma' que toma dos argumentos: 'a' y 'b'.\n",
        "    return a + b # Dentro de la función, retorna la suma de los argumentos 'a' y 'b'.\n",
        "\n",
        "resultado = suma(5, 3) # Llama a la función 'suma' con los argumentos 5 y 3. El valor retornado (8) se asigna a la variable 'resultado'.\n",
        "print(resultado) # Imprime en la consola el valor de la variable 'resultado' (que es 8).\n",
        "```\n",
        "\n",
        "***Parámetros con Valores por Defecto (Si no se envía un argumento, usa un valor predeterminado):***\n",
        "\n",
        "```python\n",
        "def saludar(nombre): # Define una función llamada 'saludar' que toma un argumento llamado 'nombre'.\n",
        "    print(f\"Hola, {nombre}!\") # Dentro de la función, imprime en la consola la cadena \"Hola, \" seguida del valor del argumento 'nombre' utilizando un f-string para la interpolación de cadenas.\n",
        "\n",
        "saludar(\"Ana\") # Llama a la función 'saludar' con la cadena de texto \"Ana\" como argumento. Esto hará que se imprima \"Hola, Ana!\" en la consola.\n",
        "```\n",
        "\n",
        "***Parámetros con Número Variable de Argumentos (*args) (Para pasar múltiples valores):***\n",
        "\n",
        "```python\n",
        "def sumar_todo(*numeros): # Define una función llamada 'sumar_todo' que acepta un número variable de argumentos posicionales. Estos argumentos se empaquetan en una tupla llamada 'numeros'.\n",
        "    return sum(numeros) # Utiliza la función incorporada 'sum()' para calcular la suma de todos los elementos dentro de la tupla 'numeros' y devuelve el resultado.\n",
        "\n",
        "print(sumar_todo(1, 2, 3, 4, 5)) # Llama a la función 'sumar_todo' con los argumentos 1, 2, 3, 4 y 5. La función sumará estos números y el resultado (15) se imprimirá en la consola.\n",
        "```\n",
        "\n",
        "\n",
        "***Parámetros con Nombre Clave (kwargs) (Para recibir argumentos nombrados como diccionario):***\n",
        "\n",
        "```python\n",
        "def mostrar_info(**datos): # Define una función llamada 'mostrar_info' que acepta un número variable de argumentos de palabra clave. Estos argumentos se empaquetan en un diccionario llamado 'datos'.\n",
        "    for clave, valor in datos.items(): # Itera sobre los pares clave-valor del diccionario 'datos' utilizando el método '.items()'.\n",
        "        print(f\"{clave}: {valor}\") # Dentro del bucle, imprime en la consola la clave y su valor correspondiente, formateados como \"clave: valor\" utilizando un f-string.\n",
        "\n",
        "mostrar_info(nombre=\"Luis\", edad=25, ciudad=\"Madrid\") # Llama a la función 'mostrar_info' con tres argumentos de palabra clave: 'nombre' con el valor \"Luis\", 'edad' con el valor 25, y 'ciudad' con el valor \"Madrid\". La función imprimirá cada par clave-valor en líneas separadas.\n",
        "```\n",
        "\n",
        "---\n",
        "### Audio ###\n",
        "\n",
        "https://drive.google.com/file/d/1tCJOTyCBdIYAEyvW7MbqrSmClPUfoePB/view?usp=drive_link\n",
        "\n",
        "---\n",
        "\n",
        "***Funciones sin parámetros:***\n",
        "\n",
        "```python\n",
        "def saludar():\n",
        "  print(\"Hola, ¿cómo estás?\")\n",
        "\n",
        "saludar() # Llamada a la función\n",
        "```\n",
        "\n",
        "***Funciones con parámetros:***\n",
        "\n",
        "```python\n",
        "def saludar_con_nombre(nombre):\n",
        "  print(f\"Hola, {nombre}, ¿cómo estás?\")\n",
        "\n",
        "saludar_con_nombre(\"Juan\") # Llamada a la función con el argumento \"Juan\"\n",
        "```"
      ],
      "metadata": {
        "id": "zKsJRKEX4XGo"
      }
    },
    {
      "cell_type": "code",
      "source": [
        "def suma(a, b):\n",
        "    return a + b\n",
        "\n",
        "resultado = suma(5, 3)\n",
        "print(resultado)  # 8"
      ],
      "metadata": {
        "colab": {
          "base_uri": "https://localhost:8080/"
        },
        "id": "462EaH_b5chX",
        "outputId": "a9bc84b0-186d-4906-9de5-f45e94388486"
      },
      "execution_count": null,
      "outputs": [
        {
          "output_type": "stream",
          "name": "stdout",
          "text": [
            "8\n"
          ]
        }
      ]
    },
    {
      "cell_type": "code",
      "source": [
        "def saludar(nombre):  # 'nombre' es un parámetro\n",
        "    print(f\"Hola, {nombre}!\")\n",
        "\n",
        "saludar(\"Ana\")  # Llamada con el argumento \"Ana\""
      ],
      "metadata": {
        "colab": {
          "base_uri": "https://localhost:8080/"
        },
        "id": "R1IEZCUM5gH7",
        "outputId": "d2d63188-e69d-4b7f-eb31-817215f818cf"
      },
      "execution_count": null,
      "outputs": [
        {
          "output_type": "stream",
          "name": "stdout",
          "text": [
            "Hola, Ana!\n"
          ]
        }
      ]
    },
    {
      "cell_type": "code",
      "source": [
        "def sumar_todo(*numeros):\n",
        "    return sum(numeros)\n",
        "\n",
        "print(sumar_todo(1, 2, 3, 4, 5))  # 15"
      ],
      "metadata": {
        "colab": {
          "base_uri": "https://localhost:8080/"
        },
        "id": "nYwLIwOR5p8m",
        "outputId": "42c86ce1-e913-41f5-fe22-5542db0d504e"
      },
      "execution_count": null,
      "outputs": [
        {
          "output_type": "stream",
          "name": "stdout",
          "text": [
            "15\n"
          ]
        }
      ]
    },
    {
      "cell_type": "code",
      "source": [
        "def mostrar_info(**datos):\n",
        "    for clave, valor in datos.items():\n",
        "        print(f\"{clave}: {valor}\")\n",
        "\n",
        "mostrar_info(nombre=\"Luis\", edad=25, ciudad=\"Madrid\")"
      ],
      "metadata": {
        "colab": {
          "base_uri": "https://localhost:8080/"
        },
        "id": "xdAXmBFf5tcf",
        "outputId": "0fda0a15-be3c-4c9f-954a-4e0c5e9aaa43"
      },
      "execution_count": null,
      "outputs": [
        {
          "output_type": "stream",
          "name": "stdout",
          "text": [
            "nombre: Luis\n",
            "edad: 25\n",
            "ciudad: Madrid\n"
          ]
        }
      ]
    }
  ]
}