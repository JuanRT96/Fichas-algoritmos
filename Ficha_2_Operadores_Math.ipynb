{
  "nbformat": 4,
  "nbformat_minor": 0,
  "metadata": {
    "colab": {
      "provenance": [],
      "authorship_tag": "ABX9TyNwwggc2G/wEINfe+oCmIII",
      "include_colab_link": true
    },
    "kernelspec": {
      "name": "python3",
      "display_name": "Python 3"
    },
    "language_info": {
      "name": "python"
    }
  },
  "cells": [
    {
      "cell_type": "markdown",
      "metadata": {
        "id": "view-in-github",
        "colab_type": "text"
      },
      "source": [
        "<a href=\"https://colab.research.google.com/github/JuanRT96/Fichas-algoritmos/blob/main/Ficha_2_Operadores_Math.ipynb\" target=\"_parent\"><img src=\"https://colab.research.google.com/assets/colab-badge.svg\" alt=\"Open In Colab\"/></a>"
      ]
    },
    {
      "cell_type": "markdown",
      "source": [
        "#### ¿Que son los operadores Math? ####\n",
        "\n",
        "Los operadores matemáticos en Python son símbolos especiales que se utilizan para realizar operaciones aritméticas y lógicas en valores numéricos. Se usan para realizar cálculos, manipular datos numéricos y tomar decisiones basadas en resultados numéricos.\n",
        "\n",
        "#### Tabla operadores aritmeticos basicos ####\n",
        "\n",
        "| Operador | Descripcion | Ejemplo | Resultado |  \n",
        "| --- | --- | --- | --- |  \n",
        "| + | Suma | 5 + 3 | 8 |  \n",
        "| - | Resta | 5 - 3 | 2 |  \n",
        "| * | Multiplicacion | 5 * 3 | 15 |  \n",
        "| / | division (resultado flotante) | 5 / 2 | 2.5 |  \n",
        "| // | Division entera | 5 // 2 | 2 |  \n",
        "| % | Módulo (resto de la division) | 5 % 2 | 1 |  \n",
        "| ** | Potencia | 5 ** 2 | 25 |  \n",
        "\n",
        "#### Ejemplo: ####\n",
        "\n",
        "```python\n",
        "# Declaracion de variables #\n",
        "\n",
        "x = 10 # Asigna el valor entero 10 a la variable llamada 'x'\n",
        "y = 5 # Asigna el valor entero 5 a la variable llamada 'y'\n",
        "\n",
        "suma = x + y    # Realiza la suma de las variables 'x' e 'y' y asigna el resultado (15) a la variable 'suma'.\n",
        "resta = x - y   # Realiza la resta de la variable 'y' a la variable 'x' y asigna el resultado (5) a la variable 'resta'.\n",
        "multiplicacion = x * y # Realiza la multiplicación de las variables 'x' e 'y' y asigna el resultado (50) a la variable 'multiplicacion'.\n",
        "division = x / y  # Realiza la división de la variable 'x' entre la variable 'y' y asigna el resultado (2.0) a la variable 'division' (el resultado es un número de punto flotante).\n",
        "division_entera = x // y # Realiza la división entera de la variable 'x' entre la variable 'y' y asigna el resultado (2) a la variable 'division_entera' (se descarta la parte decimal).\n",
        "modulo = x % y    # Calcula el residuo de la división de la variable 'x' entre la variable 'y' y asigna el resultado (0) a la variable 'modulo'.\n",
        "potencia = x ** y  # Calcula la potencia de la variable 'x' elevada a la variable 'y' y asigna el resultado (100000) a la variable 'potencia'.\n",
        "\n",
        "# Imprimir los valores #\n",
        "\n",
        "print(\"Suma:\", suma)           # Imprime en la consola la cadena \"Suma:\" seguida del valor de la variable 'suma'.\n",
        "print(\"Resta:\", resta)         # Imprime en la consola la cadena \"Resta:\" seguida del valor de la variable 'resta'.\n",
        "print(\"Multiplicación:\", multiplicacion) # Imprime en la consola la cadena \"Multiplicación:\" seguida del valor de la variable 'multiplicacion'.\n",
        "print(\"División:\", division)       # Imprime en la consola la cadena \"División:\" seguida del valor de la variable 'division'.\n",
        "print(\"División Entera:\", division_entera) # Imprime en la consola la cadena \"División Entera:\" seguida del valor de la variable 'division_entera'.\n",
        "print(\"Módulo:\", modulo)         # Imprime en la consola la cadena \"Módulo:\" seguida del valor de la variable 'modulo'.\n",
        "print(\"Potencia:\", potencia)       # Imprime en la consola la cadena \"Potencia:\" seguida del valor de la variable 'potencia'.\n",
        "```\n",
        "\n",
        "\n",
        "\n",
        "\n",
        "\n",
        "\n",
        "\n",
        "\n",
        "\n",
        "\n",
        "   \n"
      ],
      "metadata": {
        "id": "6RRyIg5LUVYr"
      }
    },
    {
      "cell_type": "markdown",
      "source": [
        "### ¿Por qué se usan los operadores matemáticos en Python? ###\n",
        "\n",
        "Facilidad de cálculo: Permiten realizar\n",
        "\n",
        "*  operaciones matemáticas de forma rápida y sencilla.\n",
        "*  Automatización de procesos: Se pueden usar en scripts para automatizar tareas numéricas.\n",
        "\n",
        "\n",
        "*  Manipulación de datos: En ciberseguridad, se utilizan para cifrado, hashing y análisis de datos.\n",
        "*  Optimización y algoritmos: Se emplean en la creación de algoritmos eficientes y optimizados.\n",
        "\n",
        "\n",
        "### ¿Para qué se usan los operadores matemáticos en Python?\n",
        "Se usan para realizar diferentes tipos de cálculos matemáticos, entre ellos: ###\n",
        "\n",
        "*   Operadores aritméticos básico\n",
        "*   Operadores matemáticos avanzados\n",
        "\n",
        "### Ejemplo ###\n",
        "\n",
        "```python\n",
        "import math\n",
        "\n",
        "print(math.sqrt(25))  # Raíz cuadrada (5.0)\n",
        "print(math.pow(2, 3)) # Potencia (8.0)\n",
        "print(math.sin(math.radians(30)))  # Seno de 30° (0.5)\n",
        "print(math.log(10))  # Logaritmo natural (2.302)\n",
        "```\n",
        "\n",
        "\n",
        "\n",
        "*  Aplicaciones en ciberseguridad\n",
        "\n",
        "\n",
        "*   Hashing y cifrado: Se usan operaciones matemáticas en algoritmos como AES, RSA y SHA.\n",
        "*   Criptografía de clave pública: La exponenciación modular (pow(base, exp, mod)) es clave en RSA.\n",
        "\n",
        "*   Análisis de datos y estadísticas: Se aplican operaciones matemáticas en la detección de anomalías.  \n",
        "\n",
        "\n",
        "\n",
        "---\n",
        "\n",
        "### Audio ###\n",
        "\n",
        "https://drive.google.com/file/d/1sxA3hWI3NQmEp8_XTyn2_hWODOwtG4VD/view?usp=drive_link\n",
        "\n",
        "---\n",
        "\n",
        "\n",
        "\n",
        "\n",
        "\n"
      ],
      "metadata": {
        "id": "JeBaW5kzkxh8"
      }
    },
    {
      "cell_type": "code",
      "source": [
        "x = 10\n",
        "y = 5\n",
        "\n",
        "suma = x + y\n",
        "resta = x - y\n",
        "multiplicacion = x * y\n",
        "division = x / y\n",
        "division_entera = x // y\n",
        "modulo = x % y\n",
        "potencia = x ** y\n",
        "\n",
        "print(\"Suma:\", suma)\n",
        "print(\"Resta:\", resta)\n",
        "print(\"Multiplicación:\", multiplicacion)\n",
        "print(\"División:\", division)\n",
        "print(\"División Entera:\", division_entera)\n",
        "print(\"Módulo:\", modulo)\n",
        "print(\"Potencia:\", potencia)\n",
        "\n",
        "\n",
        "\n",
        "\n"
      ],
      "metadata": {
        "colab": {
          "base_uri": "https://localhost:8080/"
        },
        "id": "Yw2jfG5OgrNF",
        "outputId": "85fa1394-4e57-4b26-cd91-8b8ac3fb1f0c"
      },
      "execution_count": null,
      "outputs": [
        {
          "output_type": "stream",
          "name": "stdout",
          "text": [
            "Suma: 15\n",
            "Resta: 5\n",
            "Multiplicación: 50\n",
            "División: 2.0\n",
            "División Entera: 2\n",
            "Módulo: 0\n",
            "Potencia: 100000\n"
          ]
        }
      ]
    }
  ]
}