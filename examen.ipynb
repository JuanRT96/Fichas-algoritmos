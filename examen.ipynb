{
  "nbformat": 4,
  "nbformat_minor": 0,
  "metadata": {
    "colab": {
      "provenance": [],
      "authorship_tag": "ABX9TyOIYKFf3zy3diCbnJPN93tl",
      "include_colab_link": true
    },
    "kernelspec": {
      "name": "python3",
      "display_name": "Python 3"
    },
    "language_info": {
      "name": "python"
    }
  },
  "cells": [
    {
      "cell_type": "markdown",
      "metadata": {
        "id": "view-in-github",
        "colab_type": "text"
      },
      "source": [
        "<a href=\"https://colab.research.google.com/github/JuanRT96/Fichas-algoritmos/blob/main/examen.ipynb\" target=\"_parent\"><img src=\"https://colab.research.google.com/assets/colab-badge.svg\" alt=\"Open In Colab\"/></a>"
      ]
    },
    {
      "cell_type": "markdown",
      "source": [
        "###Pregunta 1###"
      ],
      "metadata": {
        "id": "aFgNcOKgvxOz"
      }
    },
    {
      "cell_type": "code",
      "source": [
        "a = [1 , 2 , 3 , 4 , 5 , 6] # se definen las variable del listado en esta linea\n",
        "\n",
        "def listado(a):  # en esta linea se define la funcion\n",
        "  for i in range(1): # el ciclo for se utiliza para que recorra todos los datos del listado\n",
        "    print(1,2) # print se utiliza para llamar los datos deseados e imprimirlo en consola\n",
        "\n",
        "listado(a)\n",
        "\n",
        "# solo llama los dos primeros numeros porque se utilizo la funcion \"range\" que lo que hace es dalrle un rango de datos a imprimir,  i: es la variable que toma el valor y lleva la secuencia del ciclo\n",
        "\n",
        "\n",
        "\n",
        "\n",
        "\n",
        "\n",
        "\n"
      ],
      "metadata": {
        "colab": {
          "base_uri": "https://localhost:8080/"
        },
        "id": "-Rjsbvx2v5A5",
        "outputId": "9a7f2884-537d-4a9c-d390-d0a359c2834c"
      },
      "execution_count": 26,
      "outputs": [
        {
          "output_type": "stream",
          "name": "stdout",
          "text": [
            "1 2\n"
          ]
        }
      ]
    },
    {
      "cell_type": "markdown",
      "source": [
        "###Pregunta 2###\n"
      ],
      "metadata": {
        "id": "E1ZsIgEWz3wl"
      }
    },
    {
      "cell_type": "code",
      "source": [
        "licores = [1 , 2 , 3 , {\"ron\":\"viejo de caldas\"} , 4]\n",
        "licores[3]\n",
        "\n",
        "#definimos la lista como licores y en la posicion numero 3 esta el diccionario donde se llamo ron viejo de caldas\n",
        "#se llama licores con el numero 3 dentro de los corchetes y ya nos arroja los datos del diccionario con la posicion indicada"
      ],
      "metadata": {
        "colab": {
          "base_uri": "https://localhost:8080/"
        },
        "id": "-H6BeUkOz73C",
        "outputId": "6500bfed-b41e-40d9-f0c6-1a6fbf70b531"
      },
      "execution_count": 17,
      "outputs": [
        {
          "output_type": "execute_result",
          "data": {
            "text/plain": [
              "{'ron': 'viejo de caldas'}"
            ]
          },
          "metadata": {},
          "execution_count": 17
        }
      ]
    },
    {
      "cell_type": "markdown",
      "source": [
        "###Pregunta 3###"
      ],
      "metadata": {
        "id": "TIexNb2y2ZhB"
      }
    },
    {
      "cell_type": "markdown",
      "source": [
        "Los loopers o buques for son los que se usan para realizar los ciclos e imprimir y correr toda la imformacion que se desea imprimir se puede programar de manera finita o infinita hasta que el usuario decida finalizar el programa\n",
        "\n"
      ],
      "metadata": {
        "id": "TnqOcbb-7aF5"
      }
    },
    {
      "cell_type": "code",
      "source": [
        "a = [\"cerveza\" , \"ron\" , \"aguardiente\" , \"vino\"] # definimos el diccionario llamado \"a\" para que nos imprima todo lo que esta dentro del diccionario\n",
        "\n",
        "for i in a: # a: es el rango al cual llegara y hasta donde llegara el ciclo\n",
        "             # i: es la variable que toma el valor y lleva la secuencia del ciclo\n",
        "\n",
        "    print(i) # imprimimos para llamar el diccionario completo\n"
      ],
      "metadata": {
        "colab": {
          "base_uri": "https://localhost:8080/"
        },
        "id": "7jGM7VBp2f5F",
        "outputId": "55ca5566-ea20-4da9-a05a-09bedb7396f4"
      },
      "execution_count": 23,
      "outputs": [
        {
          "output_type": "stream",
          "name": "stdout",
          "text": [
            "cerveza\n",
            "ron\n",
            "aguardiente\n",
            "vino\n"
          ]
        }
      ]
    },
    {
      "cell_type": "markdown",
      "source": [
        "###Pregunta 4###"
      ],
      "metadata": {
        "id": "lqZltG3Y6Qn4"
      }
    },
    {
      "cell_type": "code",
      "source": [
        "people = [  # en este espacio se define el diccionario con los datos que se le desean mostrar al usuario\n",
        "    {\"name\": \"Carter\", \"number\": \"+1-617-495-1000\"},\n",
        "    {\"name\": \"David\", \"number\": \"+1-617-495-1000\"},\n",
        "    {\"name\": \"John\", \"number\": \"+1-949-468-2750\"}\n",
        "]\n",
        "\n",
        "name = input(\"Name: \")  # el imput se utiliza para pedir los datos al usuario y sean mostrados en consola\n",
        "\n",
        "for person in people:  # El for se utiliza para generar el ciclo ya sea finito o infinito\n",
        "    if person[\"name\"] == name: # el if se utiliza para realizar una condicion\n",
        "        number = person[\"number\"]\n",
        "        print(f\"Found {number}\")  # en esta linea el print se utiliza para mostar los datos a mostrar al usuario\n",
        "        break\n",
        "else:   # se utiliza el else para luego que la condicion de if sea falsa\n",
        "    print(\"Not found\")  # en esta linea el print se utiliza para mostar los datos a mostrar al usuario"
      ],
      "metadata": {
        "colab": {
          "base_uri": "https://localhost:8080/"
        },
        "id": "Os8uwngO6Uyz",
        "outputId": "34002e55-a6b7-42d4-8397-78ea80e4d7df"
      },
      "execution_count": 25,
      "outputs": [
        {
          "output_type": "stream",
          "name": "stdout",
          "text": [
            "Name: carter\n",
            "Not found\n"
          ]
        }
      ]
    }
  ]
}